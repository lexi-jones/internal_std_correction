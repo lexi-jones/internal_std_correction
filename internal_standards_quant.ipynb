{
 "cells": [
  {
   "cell_type": "markdown",
   "id": "5dc66de3",
   "metadata": {},
   "source": [
    "# DNA Quantification for Internal Standards (IS)\n",
    "\n",
    "Lexi Jones-Kellett\n",
    "\n",
    "#### Spike-ins\n",
    "DNA extractions were performed in 12 batches. Every sample was spiked with three internal standards: Blautia_producta (BP), Deinococcus_radiodurans (DR), Thermus_thermophilus (TT).\n",
    "\n",
    "#### DNA Concentrations of IS Protocol\n",
    "We measured the concentration of the internal standards with a Pico-Green dsDNA Quant-iT Assay Kit on a Synergy H1 microplate reader (Agilent) using 96-well plates (clear-bottom / black side, Corning #3651) using excitation/emission wavelengths of 485/538nm. We carried out all dilutions of the samples and Pico-Green reagents in low-EDTA TE buffer to prevent DNA degradation. Assays were conducted by first adding samples to 100 μL low-EDTA TE in 96-well plates, followed by adding 100 μL Pico-Green dye diluted to the working concentration with an automatic repeating pipettor. We incubated the samples in the dark for 10 minutes before measurement on the plate reader. The total reaction volume was 200 μL plus 1-10 μL of the sample (depending on the concentrations measured; total volume was always consistent within each assay). Lambda phage DNA was used as a standard and diluted from a 100 ng/μL stock in low-EDTA TE (always stored at 4°C) immediately before measurement.\n",
    "\n",
    "We quantified the DNA concentrations three times (Q1,Q2,Q3), and during each run the DNA was measured twice (a,b).\n",
    "\n",
    "NOTE: Q2 had an error, so only Q1 and Q3 are used here to estimate the DNA concentrations. "
   ]
  },
  {
   "cell_type": "code",
   "execution_count": 1,
   "id": "f709f1ce",
   "metadata": {},
   "outputs": [],
   "source": [
    "import csv,json\n",
    "import numpy as np\n",
    "import matplotlib.pyplot as plt"
   ]
  },
  {
   "cell_type": "code",
   "execution_count": 2,
   "id": "e887e827",
   "metadata": {},
   "outputs": [],
   "source": [
    "# config file contains local directory paths\n",
    "with open(\"conf.json\") as json_conf : \n",
    "    config = json.load(json_conf)"
   ]
  },
  {
   "cell_type": "code",
   "execution_count": 3,
   "id": "dc39db95",
   "metadata": {},
   "outputs": [],
   "source": [
    "# Plot fontsize params\n",
    "fontsize = 18\n",
    "\n",
    "plt.rc('font', size=fontsize)          # controls default text sizes\n",
    "plt.rc('axes', titlesize=fontsize)     # fontsize of the axes title\n",
    "plt.rc('axes', labelsize=fontsize)    # fontsize of the x and y labels\n",
    "plt.rc('xtick', labelsize=fontsize)    # fontsize of the tick labels\n",
    "plt.rc('ytick', labelsize=fontsize)    # fontsize of the tick labels\n",
    "plt.rc('legend', fontsize=fontsize)    # legend fontsize\n",
    "plt.rc('figure', titlesize=fontsize)  # fontsize of the figure title"
   ]
  },
  {
   "cell_type": "markdown",
   "id": "3f279b2a",
   "metadata": {},
   "source": [
    "#### Open DNA quant data obtained following the PicoGreen protocol"
   ]
  },
  {
   "cell_type": "code",
   "execution_count": 4,
   "id": "a6151597",
   "metadata": {
    "scrolled": true
   },
   "outputs": [],
   "source": [
    "filename = 'internal_standards_DNA_quant_round_one_and_three.csv'\n",
    "\n",
    "internal_standards = []\n",
    "with open(config[\"data_dir\"] + filename) as csv_file:\n",
    "    csv_reader = csv.reader(csv_file, delimiter=',')\n",
    "    i = 0\n",
    "    for row in csv_reader:\n",
    "        if i != 0:\n",
    "            internal_standards.append(row)\n",
    "        i += 1\n",
    "internal_standards = np.array(internal_standards)"
   ]
  },
  {
   "cell_type": "markdown",
   "id": "0f94df9a",
   "metadata": {},
   "source": [
    "Organize replicates into a dictionary"
   ]
  },
  {
   "cell_type": "code",
   "execution_count": 5,
   "id": "5e794101",
   "metadata": {
    "scrolled": true
   },
   "outputs": [
    {
     "data": {
      "text/plain": [
       "{'1a-q1': 0.175350186,\n",
       " '1a-q3': 0.162585263,\n",
       " '1b-q1': 0.162958858,\n",
       " '1b-q3': 0.154735818,\n",
       " '2a-q1': 0.169412675,\n",
       " '2a-q3': 0.199361366,\n",
       " '2b-q1': 0.171736048,\n",
       " '2b-q3': 0.184825357,\n",
       " '3a-q1': 0.172897735,\n",
       " '3a-q3': 0.162294543,\n",
       " '3b-q1': 0.171090667,\n",
       " '3b-q3': 0.163602784,\n",
       " '4a-q1': 0.183998299,\n",
       " '4a-q3': 0.162294543,\n",
       " '4b-q1': 0.173026812,\n",
       " '4b-q3': 0.163893504,\n",
       " '5a-q1': 0.188515971,\n",
       " '5a-q3': 0.172469749,\n",
       " '5b-q1': 0.189419505,\n",
       " '5b-q3': 0.182935676,\n",
       " '6a-q1': 0.177544483,\n",
       " '6a-q3': 0.17319655,\n",
       " '6b-q1': 0.174575728,\n",
       " '6b-q3': 0.171161508,\n",
       " '7a-q1': 0.168638217,\n",
       " '7a-q3': 0.158951261,\n",
       " '7b-q1': 0.175737415,\n",
       " '7b-q3': 0.160259501,\n",
       " '8a-q1': 0.169154522,\n",
       " '8a-q3': 0.165928545,\n",
       " '8b-q1': 0.172510506,\n",
       " '8b-q3': 0.163021343,\n",
       " '9a-q1': 0.175221109,\n",
       " '9a-q3': 0.167527506,\n",
       " '9b-q1': 0.168767293,\n",
       " '9b-q3': 0.162875983,\n",
       " '10a-q1': 0.168638217,\n",
       " '10a-q3': 0.169853268,\n",
       " '10b-q1': 0.1572795,\n",
       " '10b-q3': 0.181336715,\n",
       " '11a-q1': 0.130044396,\n",
       " '11a-q3': 0.155171898,\n",
       " '11b-q1': 0.159990103,\n",
       " '11b-q3': 0.152991497,\n",
       " '12a-q1': 0.155085203,\n",
       " '12a-q3': 0.139182288,\n",
       " '12b-q1': 0.169025446,\n",
       " '12b-q3': 0.153136857}"
      ]
     },
     "execution_count": 5,
     "metadata": {},
     "output_type": "execute_result"
    }
   ],
   "source": [
    "bp_dict,dr_dict,tt_dict = {},{},{}\n",
    "for i in internal_standards:\n",
    "    name,q1,q3 = i[0],float(i[1]),float(i[2])\n",
    "    split_name = name.split('-')\n",
    "    dict_name = split_name[0][2:] + split_name[2]\n",
    "    \n",
    "    if split_name[1] == 'bp':      \n",
    "        bp_dict[dict_name + '-q1'] = q1\n",
    "        bp_dict[dict_name + '-q3'] = q3\n",
    "    elif split_name[1] == 'dr':      \n",
    "        dr_dict[dict_name + '-q1'] = q1\n",
    "        dr_dict[dict_name + '-q3'] = q3\n",
    "    elif split_name[1] == 'tt':      \n",
    "        tt_dict[dict_name + '-q1'] = q1\n",
    "        tt_dict[dict_name + '-q3'] = q3\n",
    "        \n",
    "bp_dict"
   ]
  },
  {
   "cell_type": "markdown",
   "id": "2ddf8659",
   "metadata": {},
   "source": [
    "#### Plot the DNA concentration replicates for each internal standard. \n",
    "\n",
    "Protocol followed twice * 2 measurements each = 4 concentrations per batch"
   ]
  },
  {
   "cell_type": "code",
   "execution_count": 6,
   "id": "9b6a0a3e",
   "metadata": {},
   "outputs": [
    {
     "data": {
      "image/png": "[encoded data removed]",
      "text/plain": [
       "<Figure size 720x720 with 3 Axes>"
      ]
     },
     "metadata": {
      "needs_background": "light"
     },
     "output_type": "display_data"
    }
   ],
   "source": [
    "fontsize=18\n",
    "\n",
    "fig,ax = plt.subplots(3,1,figsize=(10,10))\n",
    "\n",
    "for n in np.arange(1,13):\n",
    "    if n == 1:\n",
    "        label1,label3 = 'Quant 1','Quant 3'\n",
    "    else:\n",
    "        label1,label3 = None,None\n",
    "        \n",
    "    ax[0].scatter(n,bp_dict[str(n)+'a-q1'],label=label1,c='k')\n",
    "    ax[0].scatter(n,bp_dict[str(n)+'b-q1'],c='k')\n",
    "    ax[0].scatter(n,bp_dict[str(n)+'a-q3'],label=label3,c='gray')\n",
    "    ax[0].scatter(n,bp_dict[str(n)+'b-q3'],c='gray')\n",
    "    ax[1].scatter(n,dr_dict[str(n)+'a-q1'],c='k')\n",
    "    ax[1].scatter(n,dr_dict[str(n)+'b-q1'],c='k')\n",
    "    ax[1].scatter(n,dr_dict[str(n)+'a-q3'],c='gray')\n",
    "    ax[1].scatter(n,dr_dict[str(n)+'b-q3'],c='gray')\n",
    "    ax[2].scatter(n,tt_dict[str(n)+'a-q1'],c='k')\n",
    "    ax[2].scatter(n,tt_dict[str(n)+'b-q1'],c='k')\n",
    "    ax[2].scatter(n,tt_dict[str(n)+'a-q3'],c='gray')\n",
    "    ax[2].scatter(n,tt_dict[str(n)+'b-q3'],c='gray')\n",
    "\n",
    "for i in np.arange(0,3):\n",
    "    ax[i].set_ylim([0.11,0.29])\n",
    "    \n",
    "ax[0].set_title('BP')\n",
    "ax[0].legend()\n",
    "ax[1].set_title('DR')\n",
    "ax[2].set_title('TT')\n",
    "ax[2].set_xlabel('Batch')\n",
    "ax[2].set_ylabel('[DNA] ($ng/\\mu L$)')\n",
    "\n",
    "plt.show()"
   ]
  },
  {
   "cell_type": "markdown",
   "id": "7536e020",
   "metadata": {},
   "source": [
    "Reformat into lists"
   ]
  },
  {
   "cell_type": "code",
   "execution_count": 7,
   "id": "a62633bf",
   "metadata": {},
   "outputs": [],
   "source": [
    "a_samples_q1_bp,a_samples_q1_dr,a_samples_q1_tt = [],[],[]\n",
    "b_samples_q1_bp,b_samples_q1_dr,b_samples_q1_tt = [],[],[]\n",
    "a_samples_q3_bp,a_samples_q3_dr,a_samples_q3_tt = [],[],[]\n",
    "b_samples_q3_bp,b_samples_q3_dr,b_samples_q3_tt = [],[],[]\n",
    "\n",
    "for n in np.arange(1,13):\n",
    "    a_samples_q1_bp.append(bp_dict[str(n)+'a-q1'])\n",
    "    b_samples_q1_bp.append(bp_dict[str(n)+'b-q1'])\n",
    "    a_samples_q3_bp.append(bp_dict[str(n)+'a-q3'])\n",
    "    b_samples_q3_bp.append(bp_dict[str(n)+'b-q3'])\n",
    "    \n",
    "    a_samples_q1_dr.append(dr_dict[str(n)+'a-q1'])\n",
    "    b_samples_q1_dr.append(dr_dict[str(n)+'b-q1'])\n",
    "    a_samples_q3_dr.append(dr_dict[str(n)+'a-q3'])\n",
    "    b_samples_q3_dr.append(dr_dict[str(n)+'b-q3'])\n",
    "    \n",
    "    a_samples_q1_tt.append(tt_dict[str(n)+'a-q1'])\n",
    "    b_samples_q1_tt.append(tt_dict[str(n)+'b-q1'])\n",
    "    a_samples_q3_tt.append(tt_dict[str(n)+'a-q3'])\n",
    "    b_samples_q3_tt.append(tt_dict[str(n)+'b-q3'])"
   ]
  },
  {
   "cell_type": "markdown",
   "id": "1dd1fd52",
   "metadata": {},
   "source": [
    "#### Decide which value to use \n",
    "\n",
    "To do so, calculated mean and max seperations between a & b for each IS "
   ]
  },
  {
   "cell_type": "code",
   "execution_count": 8,
   "id": "8f7eb15c",
   "metadata": {},
   "outputs": [
    {
     "name": "stdout",
     "output_type": "stream",
     "text": [
      "0.00862660083333333\n",
      "0.029945706999999988\n",
      "0.006873314250000008\n",
      "0.01600546400000001\n",
      "0.013703603166666663\n",
      "0.03020386\n"
     ]
    }
   ],
   "source": [
    "sep_bp = np.abs(np.subtract(a_samples_q1_bp,b_samples_q1_bp))\n",
    "sep_dr = np.abs(np.subtract(a_samples_q1_dr,b_samples_q1_dr))\n",
    "sep_tt = np.abs(np.subtract(a_samples_q1_tt,b_samples_q1_tt))\n",
    "\n",
    "print(np.mean(sep_bp))\n",
    "print(max(sep_bp))\n",
    "print(np.mean(sep_dr))\n",
    "print(max(sep_dr))\n",
    "print(np.mean(sep_tt))\n",
    "print(max(sep_tt))"
   ]
  },
  {
   "cell_type": "code",
   "execution_count": 9,
   "id": "e8e839e8",
   "metadata": {},
   "outputs": [
    {
     "name": "stdout",
     "output_type": "stream",
     "text": [
      "0.01239132799999998\n",
      "False\n",
      "0.0023233729999999897\n",
      "False\n",
      "0.001807067999999995\n",
      "False\n",
      "0.010971487000000002\n",
      "False\n",
      "0.0009035339999999836\n",
      "False\n",
      "0.0029687549999999896\n",
      "False\n",
      "0.007099198000000001\n",
      "False\n",
      "0.0033559840000000063\n",
      "False\n",
      "0.006453816000000001\n",
      "False\n",
      "0.011358717000000018\n",
      "False\n",
      "0.029945706999999988\n",
      "True\n",
      "0.013940242999999991\n",
      "True\n",
      "2\n"
     ]
    }
   ],
   "source": [
    "count = 0\n",
    "for s in sep_bp:\n",
    "    print(s)\n",
    "    if s > 1.5*np.mean(sep_bp):\n",
    "        print('True')\n",
    "        count += 1\n",
    "    else:\n",
    "        print('False')\n",
    "print(count)"
   ]
  },
  {
   "cell_type": "markdown",
   "id": "4ffd58d2",
   "metadata": {},
   "source": [
    "For BP, using the higher for sample 11, and the mean for sample 12"
   ]
  },
  {
   "cell_type": "code",
   "execution_count": 10,
   "id": "aafbba21",
   "metadata": {},
   "outputs": [
    {
     "name": "stdout",
     "output_type": "stream",
     "text": [
      "0.004001366000000006\n",
      "False\n",
      "0.008131808000000018\n",
      "False\n",
      "0.0036141370000000173\n",
      "False\n",
      "0.012778555999999996\n",
      "True\n",
      "0.01600546400000001\n",
      "True\n",
      "0.012133174999999996\n",
      "True\n",
      "0.00025815300000001096\n",
      "False\n",
      "0.0028396790000000116\n",
      "False\n",
      "0.008519036999999993\n",
      "False\n",
      "0.0015489160000000113\n",
      "False\n",
      "0.008648114000000012\n",
      "False\n",
      "0.004001366000000006\n",
      "False\n",
      "3\n"
     ]
    }
   ],
   "source": [
    "count = 0\n",
    "for s in sep_dr:\n",
    "    print(s)\n",
    "    if s > 1.5*np.mean(sep_dr):\n",
    "        print('True')\n",
    "        count += 1\n",
    "    else:\n",
    "        print('False')\n",
    "        \n",
    "print(count)"
   ]
  },
  {
   "cell_type": "markdown",
   "id": "b2ab119f",
   "metadata": {},
   "source": [
    "For DR, using the lower for Sample 4, the mean for Sample 5, and the higher value for Sample 6"
   ]
  },
  {
   "cell_type": "code",
   "execution_count": 11,
   "id": "41102ee3",
   "metadata": {},
   "outputs": [
    {
     "name": "stdout",
     "output_type": "stream",
     "text": [
      "0.012520403000000013\n",
      "False\n",
      "0.0072282749999999785\n",
      "False\n",
      "0.019619600999999987\n",
      "False\n",
      "0.013423938000000024\n",
      "False\n",
      "0.01884514399999998\n",
      "False\n",
      "0.011229640000000013\n",
      "False\n",
      "0.015876386999999964\n",
      "False\n",
      "0.013165784999999985\n",
      "False\n",
      "0.014972854000000008\n",
      "False\n",
      "0.004001366000000006\n",
      "False\n",
      "0.0033559850000000058\n",
      "False\n",
      "0.03020386\n",
      "True\n",
      "1\n"
     ]
    }
   ],
   "source": [
    "count = 0\n",
    "for s in sep_tt:\n",
    "    print(s)\n",
    "    if s > 1.5*np.mean(sep_tt):\n",
    "        print('True')\n",
    "        count += 1\n",
    "    else:\n",
    "        print('False')\n",
    "print(count)"
   ]
  },
  {
   "cell_type": "markdown",
   "id": "12fe6e83",
   "metadata": {},
   "source": [
    "For the last TT sample we will use the higher value"
   ]
  },
  {
   "cell_type": "code",
   "execution_count": 12,
   "id": "4f58264c",
   "metadata": {},
   "outputs": [],
   "source": [
    "bp_final_values,dr_final_values,tt_final_values = [],[],[]\n",
    "for i in np.arange(0,len(a_samples_q1_bp)):\n",
    "    # use the higher for sample 11 (index 10)\n",
    "    if i == 10:\n",
    "        bp_final_values.append(np.max([a_samples_q1_bp[i],b_samples_q1_bp[i]]))\n",
    "    else:\n",
    "        bp_final_values.append(np.mean([a_samples_q1_bp[i],b_samples_q1_bp[i]]))\n",
    "\n",
    "for i in np.arange(0,len(a_samples_q1_dr)): \n",
    "    #use the lower for Sample 4 (index 3), and the higher value for Sample 6 (index 5)\n",
    "    if i == 3:\n",
    "        dr_final_values.append(np.min([a_samples_q1_dr[i],b_samples_q1_dr[i]]))\n",
    "    elif i == 5:\n",
    "        dr_final_values.append(np.max([a_samples_q1_dr[i],b_samples_q1_dr[i]]))\n",
    "    else:\n",
    "        dr_final_values.append(np.mean([a_samples_q1_dr[i],b_samples_q1_dr[i]]))\n",
    "\n",
    "for i in np.arange(0,len(a_samples_q1_tt)):\n",
    "    # use the higher for sample 12 (index 11)\n",
    "    if i == 11:\n",
    "        tt_final_values.append(np.max([a_samples_q1_tt[i],b_samples_q1_tt[i]]))\n",
    "    else:\n",
    "        tt_final_values.append(np.mean([a_samples_q1_tt[i],b_samples_q1_tt[i]]))"
   ]
  },
  {
   "cell_type": "markdown",
   "id": "9419403b",
   "metadata": {},
   "source": [
    "#### Plot concentrations using for analysis"
   ]
  },
  {
   "cell_type": "code",
   "execution_count": 13,
   "id": "487b2e71",
   "metadata": {},
   "outputs": [
    {
     "data": {
      "image/png": "[encoded data removed]",
      "text/plain": [
       "<Figure size 720x720 with 3 Axes>"
      ]
     },
     "metadata": {
      "needs_background": "light"
     },
     "output_type": "display_data"
    }
   ],
   "source": [
    "fontsize=18\n",
    "\n",
    "fig,ax = plt.subplots(3,1,figsize=(10,10))\n",
    "\n",
    "ax[0].scatter(np.arange(1,len(a_samples_q1_bp)+1),a_samples_q1_bp,label='quant 1 samples',c='k')\n",
    "ax[0].scatter(np.arange(1,len(b_samples_q1_bp)+1),b_samples_q1_bp,c='k')\n",
    "ax[0].scatter(np.arange(1,len(a_samples_q3_bp)+1),a_samples_q3_bp,label='quant 3 samples',c='gray')\n",
    "ax[0].scatter(np.arange(1,len(b_samples_q3_bp)+1),b_samples_q3_bp,c='gray')\n",
    "ax[0].scatter(np.arange(1,len(bp_final_values)+1),bp_final_values,label='choosen value',c='red')\n",
    "ax[0].set_title('BP')\n",
    "ax[0].legend()\n",
    "\n",
    "ax[1].scatter(np.arange(1,len(a_samples_q1_dr)+1),a_samples_q1_dr,c='k')\n",
    "ax[1].scatter(np.arange(1,len(b_samples_q1_dr)+1),b_samples_q1_dr,c='k')\n",
    "ax[1].scatter(np.arange(1,len(a_samples_q3_dr)+1),a_samples_q3_dr,c='gray')\n",
    "ax[1].scatter(np.arange(1,len(b_samples_q3_dr)+1),b_samples_q3_dr,c='gray')\n",
    "ax[1].scatter(np.arange(1,len(dr_final_values)+1),dr_final_values,c='red')\n",
    "ax[1].set_title('DR')\n",
    "\n",
    "ax[2].scatter(np.arange(1,len(a_samples_q1_tt)+1),a_samples_q1_tt,c='k')\n",
    "ax[2].scatter(np.arange(1,len(b_samples_q1_tt)+1),b_samples_q1_tt,c='k')\n",
    "ax[2].scatter(np.arange(1,len(a_samples_q3_tt)+1),a_samples_q3_tt,c='gray')\n",
    "ax[2].scatter(np.arange(1,len(b_samples_q3_tt)+1),b_samples_q3_tt,c='gray')\n",
    "ax[2].scatter(np.arange(1,len(tt_final_values)+1),tt_final_values,c='red')\n",
    "\n",
    "ax[2].set_title('TT')\n",
    "ax[2].set_xlabel('Batch')\n",
    "ax[2].set_ylabel('[DNA] ($ng/\\mu L$)')\n",
    "\n",
    "for i in np.arange(0,3):\n",
    "    ax[i].set_ylim([0.11,0.29])\n",
    "\n",
    "plt.show()"
   ]
  },
  {
   "cell_type": "code",
   "execution_count": 14,
   "id": "681cef6d",
   "metadata": {},
   "outputs": [
    {
     "data": {
      "text/plain": [
       "<matplotlib.legend.Legend at 0x10ad38520>"
      ]
     },
     "execution_count": 14,
     "metadata": {},
     "output_type": "execute_result"
    },
    {
     "data": {
      "image/png": "[encoded data removed]",
      "text/plain": [
       "<Figure size 720x360 with 1 Axes>"
      ]
     },
     "metadata": {
      "needs_background": "light"
     },
     "output_type": "display_data"
    }
   ],
   "source": [
    "fontsize=18\n",
    "fig,ax = plt.subplots(1,1,figsize=(10,5))\n",
    "ax.scatter(np.arange(1,len(bp_final_values)+1),bp_final_values,label='BP')\n",
    "ax.scatter(np.arange(1,len(dr_final_values)+1),dr_final_values,label='DR')\n",
    "ax.scatter(np.arange(1,len(tt_final_values)+1),tt_final_values,label='TT')\n",
    "ax.set_xlabel('Batch')\n",
    "ax.set_ylabel('[DNA] ($ng/\\mu L$)')\n",
    "ax.legend(fontsize=fontsize,bbox_to_anchor=(1, 0.75))"
   ]
  },
  {
   "cell_type": "markdown",
   "id": "b260e590",
   "metadata": {},
   "source": [
    "#### Save data table"
   ]
  },
  {
   "cell_type": "code",
   "execution_count": 15,
   "id": "1e108800",
   "metadata": {},
   "outputs": [
    {
     "data": {
      "text/plain": [
       "[['batch', 'bp(ng/muL)', 'dr(ng/muL)', 'tt(ng/muL)'],\n",
       " [1, 0.169154522, 0.157473115, 0.2390493515],\n",
       " [2, 0.1705743615, 0.150502993, 0.2507307585],\n",
       " [3, 0.171994201, 0.1315933115, 0.2362742105],\n",
       " [4, 0.1785125555, 0.144500944, 0.239242966],\n",
       " [5, 0.188967738, 0.132496846, 0.218590754],\n",
       " [6, 0.1760601055, 0.138305281, 0.21955882599999998],\n",
       " [7, 0.172187816, 0.15250367650000002, 0.2435670225],\n",
       " [8, 0.170832514, 0.12797917450000001, 0.2260771805],\n",
       " [9, 0.171994201, 0.1273337935, 0.24453509499999998],\n",
       " [10, 0.1629588585, 0.14850231, 0.220075132],\n",
       " [11, 0.159990103, 0.148695925, 0.2152347695],\n",
       " [12, 0.1620553245, 0.129463553, 0.20258529]]"
      ]
     },
     "execution_count": 15,
     "metadata": {},
     "output_type": "execute_result"
    }
   ],
   "source": [
    "final_values = [['batch','bp(ng/muL)','dr(ng/muL)','tt(ng/muL)']]\n",
    "for i in np.arange(0,len(bp_final_values)):\n",
    "    final_values.append([i+1,bp_final_values[i],dr_final_values[i],tt_final_values[i]])\n",
    "final_values"
   ]
  },
  {
   "cell_type": "code",
   "execution_count": 16,
   "id": "07204df4",
   "metadata": {},
   "outputs": [],
   "source": [
    "f = open(config[\"data_dir\"] + 'IS_quants.csv', 'w')\n",
    "writer = csv.writer(f)\n",
    "for row in final_values:\n",
    "    writer.writerow(row)\n",
    "f.close()"
   ]
  },
  {
   "cell_type": "code",
   "execution_count": null,
   "id": "6b319efe",
   "metadata": {},
   "outputs": [],
   "source": []
  }
 ],
 "metadata": {
  "kernelspec": {
   "display_name": "Python 3 (ipykernel)",
   "language": "python",
   "name": "python3"
  },
  "language_info": {
   "codemirror_mode": {
    "name": "ipython",
    "version": 3
   },
   "file_extension": ".py",
   "mimetype": "text/x-python",
   "name": "python",
   "nbconvert_exporter": "python",
   "pygments_lexer": "ipython3",
   "version": "3.9.7"
  }
 },
 "nbformat": 4,
 "nbformat_minor": 5
}
